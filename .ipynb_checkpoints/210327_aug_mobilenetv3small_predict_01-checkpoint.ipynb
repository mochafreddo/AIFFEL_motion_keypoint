{
 "cells": [
  {
   "cell_type": "code",
   "execution_count": null,
   "id": "requested-conference",
   "metadata": {},
   "outputs": [],
   "source": [
    "import glob\n",
    "import numpy as np\n",
    "import os\n",
    "import pandas as pd\n",
    "from tqdm import tqdm\n",
    "\n",
    "import tensorflow as tf\n",
    "from tensorflow import keras\n",
    "from tensorflow.keras.applications import MobileNetV3Small\n",
    "from tensorflow.keras.layers import BatchNormalization\n",
    "from tensorflow.keras.layers import Dense\n",
    "from tensorflow.keras.layers import Dropout\n",
    "from tensorflow.keras.optimizers import RMSprop"
   ]
  },
  {
   "cell_type": "code",
   "execution_count": null,
   "id": "banner-supply",
   "metadata": {},
   "outputs": [],
   "source": [
    "os.chdir('data')\n",
    "test_paths = sorted(glob.glob('./test_imgs/*.jpg'))"
   ]
  },
  {
   "cell_type": "code",
   "execution_count": null,
   "id": "italic-usage",
   "metadata": {},
   "outputs": [],
   "source": [
    "base_model = MobileNetV3Small(\n",
    "    input_shape=(270, 480, 3),\n",
    "    include_top=False,\n",
    "    weights='imagenet',\n",
    "    pooling='avg',\n",
    "    dropout_rate=0.8\n",
    ")\n",
    "\n",
    "for layer in base_model.layers:\n",
    "    layer.trainable = True\n",
    "\n",
    "x = base_model.output\n",
    "x = Dense(512, activation='relu')(x)\n",
    "x = BatchNormalization()(x)\n",
    "x = Dropout(0.8)(x)\n",
    "predictions = Dense(48)(x)\n",
    "\n",
    "model = Model(inputs=base_model.input, outputs=predictions)\n",
    "\n",
    "model.compile(\n",
    "    optimizer=RMSprop(\n",
    "        learning_rate=0.1,\n",
    "        momentum=0.9\n",
    "    ),\n",
    "    loss='mean_squared_error',\n",
    "    metrics=['accuracy'])"
   ]
  },
  {
   "cell_type": "code",
   "execution_count": null,
   "id": "standard-mailman",
   "metadata": {},
   "outputs": [],
   "source": [
    "model.load_weights(\"210326_aug_mobilenetv3small_01_62.h5\")"
   ]
  },
  {
   "cell_type": "code",
   "execution_count": null,
   "id": "covered-startup",
   "metadata": {},
   "outputs": [],
   "source": [
    "X_test = []\n",
    "\n",
    "for test_path in tqdm(test_paths):\n",
    "    img = tf.io.read_file(test_path)\n",
    "    img = tf.image.decode_jpeg(img, channels=3)\n",
    "    img = tf.image.resize(img, [270, 480])\n",
    "    img = img/255\n",
    "    X_test.append(img)\n",
    "\n",
    "X_test = tf.stack(X_test, axis=0)\n",
    "X_test.shape"
   ]
  },
  {
   "cell_type": "code",
   "execution_count": null,
   "id": "oriental-dating",
   "metadata": {},
   "outputs": [],
   "source": [
    "pred = model.predict(X_test)"
   ]
  },
  {
   "cell_type": "code",
   "execution_count": null,
   "id": "horizontal-bosnia",
   "metadata": {},
   "outputs": [],
   "source": [
    "submission = pd.read_csv('./sample_submission.csv')\n",
    "# image size를 1920x1080 -> 480x270으로 바꿔서 예측했으므로 * 4\n",
    "submission.iloc[:, 1:] = pred*4"
   ]
  },
  {
   "cell_type": "code",
   "execution_count": null,
   "id": "mature-douglas",
   "metadata": {},
   "outputs": [],
   "source": [
    "# submission\n",
    "submission.to_csv('submission_210325_mocha_01.csv', index=False)"
   ]
  },
  {
   "cell_type": "code",
   "execution_count": null,
   "id": "sharing-spider",
   "metadata": {},
   "outputs": [],
   "source": [
    "import random\n",
    "from PIL import Image\n",
    "import matplotlib.pyplot as plt"
   ]
  },
  {
   "cell_type": "code",
   "execution_count": null,
   "id": "instructional-newcastle",
   "metadata": {},
   "outputs": [],
   "source": [
    "n = random.randint(0, 1600)\n",
    "predicted_keypoint = submission.iloc[n, 1:49]\n",
    "predicted_keypoint = np.array(predicted_keypoint)\n",
    "img = Image.open(test_paths[n])\n",
    "plt.imshow(img)\n",
    "plt.scatter(predicted_keypoint[0::2], predicted_keypoint[1::2], marker='x')"
   ]
  }
 ],
 "metadata": {
  "kernelspec": {
   "display_name": "aiffel",
   "language": "python",
   "name": "aiffel"
  },
  "language_info": {
   "codemirror_mode": {
    "name": "ipython",
    "version": 3
   },
   "file_extension": ".py",
   "mimetype": "text/x-python",
   "name": "python",
   "nbconvert_exporter": "python",
   "pygments_lexer": "ipython3",
   "version": "3.7.10"
  },
  "toc": {
   "base_numbering": 1,
   "nav_menu": {},
   "number_sections": false,
   "sideBar": true,
   "skip_h1_title": false,
   "title_cell": "Table of Contents",
   "title_sidebar": "Contents",
   "toc_cell": false,
   "toc_position": {},
   "toc_section_display": true,
   "toc_window_display": false
  }
 },
 "nbformat": 4,
 "nbformat_minor": 5
}
